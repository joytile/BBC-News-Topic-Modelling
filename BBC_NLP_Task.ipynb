{
  "nbformat": 4,
  "nbformat_minor": 0,
  "metadata": {
    "colab": {
      "provenance": [],
      "toc_visible": true,
      "gpuType": "T4"
    },
    "kernelspec": {
      "name": "python3",
      "display_name": "Python 3"
    },
    "language_info": {
      "name": "python"
    },
    "accelerator": "GPU"
  },
  "cells": [
    {
      "cell_type": "markdown",
      "source": [
        "# Overview"
      ],
      "metadata": {
        "id": "lCrNCEbPCLP4"
      }
    },
    {
      "cell_type": "markdown",
      "source": [],
      "metadata": {
        "id": "rl0ZPg7gCN0O"
      }
    },
    {
      "cell_type": "markdown",
      "source": [
        "# Importing Necessary Libraries"
      ],
      "metadata": {
        "id": "7Cjy7Ki6COXf"
      }
    },
    {
      "cell_type": "code",
      "execution_count": null,
      "metadata": {
        "id": "DkK1Ht_4BwtU",
        "colab": {
          "base_uri": "https://localhost:8080/"
        },
        "outputId": "90d7c1f9-d09d-4952-94fc-0c4f8046b2ea"
      },
      "outputs": [
        {
          "output_type": "stream",
          "name": "stdout",
          "text": [
            "Requirement already satisfied: sentence-transformers in /usr/local/lib/python3.11/dist-packages (4.1.0)\n",
            "Collecting bertopic[all]\n",
            "  Downloading bertopic-0.17.0-py3-none-any.whl.metadata (23 kB)\n",
            "\u001b[33mWARNING: bertopic 0.17.0 does not provide the extra 'all'\u001b[0m\u001b[33m\n",
            "\u001b[0mRequirement already satisfied: hdbscan>=0.8.29 in /usr/local/lib/python3.11/dist-packages (from bertopic[all]) (0.8.40)\n",
            "Requirement already satisfied: numpy>=1.20.0 in /usr/local/lib/python3.11/dist-packages (from bertopic[all]) (2.0.2)\n",
            "Requirement already satisfied: pandas>=1.1.5 in /usr/local/lib/python3.11/dist-packages (from bertopic[all]) (2.2.2)\n",
            "Requirement already satisfied: plotly>=4.7.0 in /usr/local/lib/python3.11/dist-packages (from bertopic[all]) (5.24.1)\n",
            "Requirement already satisfied: scikit-learn>=1.0 in /usr/local/lib/python3.11/dist-packages (from bertopic[all]) (1.6.1)\n",
            "Requirement already satisfied: tqdm>=4.41.1 in /usr/local/lib/python3.11/dist-packages (from bertopic[all]) (4.67.1)\n",
            "Requirement already satisfied: umap-learn>=0.5.0 in /usr/local/lib/python3.11/dist-packages (from bertopic[all]) (0.5.8)\n",
            "Requirement already satisfied: transformers<5.0.0,>=4.41.0 in /usr/local/lib/python3.11/dist-packages (from sentence-transformers) (4.53.0)\n",
            "Requirement already satisfied: torch>=1.11.0 in /usr/local/lib/python3.11/dist-packages (from sentence-transformers) (2.6.0+cu124)\n",
            "Requirement already satisfied: scipy in /usr/local/lib/python3.11/dist-packages (from sentence-transformers) (1.15.3)\n",
            "Requirement already satisfied: huggingface-hub>=0.20.0 in /usr/local/lib/python3.11/dist-packages (from sentence-transformers) (0.33.1)\n",
            "Requirement already satisfied: Pillow in /usr/local/lib/python3.11/dist-packages (from sentence-transformers) (11.2.1)\n",
            "Requirement already satisfied: typing_extensions>=4.5.0 in /usr/local/lib/python3.11/dist-packages (from sentence-transformers) (4.14.0)\n",
            "Requirement already satisfied: joblib>=1.0 in /usr/local/lib/python3.11/dist-packages (from hdbscan>=0.8.29->bertopic[all]) (1.5.1)\n",
            "Requirement already satisfied: filelock in /usr/local/lib/python3.11/dist-packages (from huggingface-hub>=0.20.0->sentence-transformers) (3.18.0)\n",
            "Requirement already satisfied: fsspec>=2023.5.0 in /usr/local/lib/python3.11/dist-packages (from huggingface-hub>=0.20.0->sentence-transformers) (2025.3.2)\n",
            "Requirement already satisfied: packaging>=20.9 in /usr/local/lib/python3.11/dist-packages (from huggingface-hub>=0.20.0->sentence-transformers) (24.2)\n",
            "Requirement already satisfied: pyyaml>=5.1 in /usr/local/lib/python3.11/dist-packages (from huggingface-hub>=0.20.0->sentence-transformers) (6.0.2)\n",
            "Requirement already satisfied: requests in /usr/local/lib/python3.11/dist-packages (from huggingface-hub>=0.20.0->sentence-transformers) (2.32.3)\n",
            "Requirement already satisfied: hf-xet<2.0.0,>=1.1.2 in /usr/local/lib/python3.11/dist-packages (from huggingface-hub>=0.20.0->sentence-transformers) (1.1.5)\n",
            "Requirement already satisfied: python-dateutil>=2.8.2 in /usr/local/lib/python3.11/dist-packages (from pandas>=1.1.5->bertopic[all]) (2.9.0.post0)\n",
            "Requirement already satisfied: pytz>=2020.1 in /usr/local/lib/python3.11/dist-packages (from pandas>=1.1.5->bertopic[all]) (2025.2)\n",
            "Requirement already satisfied: tzdata>=2022.7 in /usr/local/lib/python3.11/dist-packages (from pandas>=1.1.5->bertopic[all]) (2025.2)\n",
            "Requirement already satisfied: tenacity>=6.2.0 in /usr/local/lib/python3.11/dist-packages (from plotly>=4.7.0->bertopic[all]) (8.5.0)\n",
            "Requirement already satisfied: threadpoolctl>=3.1.0 in /usr/local/lib/python3.11/dist-packages (from scikit-learn>=1.0->bertopic[all]) (3.6.0)\n",
            "Requirement already satisfied: networkx in /usr/local/lib/python3.11/dist-packages (from torch>=1.11.0->sentence-transformers) (3.5)\n",
            "Requirement already satisfied: jinja2 in /usr/local/lib/python3.11/dist-packages (from torch>=1.11.0->sentence-transformers) (3.1.6)\n",
            "Collecting nvidia-cuda-nvrtc-cu12==12.4.127 (from torch>=1.11.0->sentence-transformers)\n",
            "  Downloading nvidia_cuda_nvrtc_cu12-12.4.127-py3-none-manylinux2014_x86_64.whl.metadata (1.5 kB)\n",
            "Collecting nvidia-cuda-runtime-cu12==12.4.127 (from torch>=1.11.0->sentence-transformers)\n",
            "  Downloading nvidia_cuda_runtime_cu12-12.4.127-py3-none-manylinux2014_x86_64.whl.metadata (1.5 kB)\n",
            "Collecting nvidia-cuda-cupti-cu12==12.4.127 (from torch>=1.11.0->sentence-transformers)\n",
            "  Downloading nvidia_cuda_cupti_cu12-12.4.127-py3-none-manylinux2014_x86_64.whl.metadata (1.6 kB)\n",
            "Collecting nvidia-cudnn-cu12==9.1.0.70 (from torch>=1.11.0->sentence-transformers)\n",
            "  Downloading nvidia_cudnn_cu12-9.1.0.70-py3-none-manylinux2014_x86_64.whl.metadata (1.6 kB)\n",
            "Collecting nvidia-cublas-cu12==12.4.5.8 (from torch>=1.11.0->sentence-transformers)\n",
            "  Downloading nvidia_cublas_cu12-12.4.5.8-py3-none-manylinux2014_x86_64.whl.metadata (1.5 kB)\n",
            "Collecting nvidia-cufft-cu12==11.2.1.3 (from torch>=1.11.0->sentence-transformers)\n",
            "  Downloading nvidia_cufft_cu12-11.2.1.3-py3-none-manylinux2014_x86_64.whl.metadata (1.5 kB)\n",
            "Collecting nvidia-curand-cu12==10.3.5.147 (from torch>=1.11.0->sentence-transformers)\n",
            "  Downloading nvidia_curand_cu12-10.3.5.147-py3-none-manylinux2014_x86_64.whl.metadata (1.5 kB)\n",
            "Collecting nvidia-cusolver-cu12==11.6.1.9 (from torch>=1.11.0->sentence-transformers)\n",
            "  Downloading nvidia_cusolver_cu12-11.6.1.9-py3-none-manylinux2014_x86_64.whl.metadata (1.6 kB)\n",
            "Collecting nvidia-cusparse-cu12==12.3.1.170 (from torch>=1.11.0->sentence-transformers)\n",
            "  Downloading nvidia_cusparse_cu12-12.3.1.170-py3-none-manylinux2014_x86_64.whl.metadata (1.6 kB)\n",
            "Requirement already satisfied: nvidia-cusparselt-cu12==0.6.2 in /usr/local/lib/python3.11/dist-packages (from torch>=1.11.0->sentence-transformers) (0.6.2)\n",
            "Requirement already satisfied: nvidia-nccl-cu12==2.21.5 in /usr/local/lib/python3.11/dist-packages (from torch>=1.11.0->sentence-transformers) (2.21.5)\n",
            "Requirement already satisfied: nvidia-nvtx-cu12==12.4.127 in /usr/local/lib/python3.11/dist-packages (from torch>=1.11.0->sentence-transformers) (12.4.127)\n",
            "Collecting nvidia-nvjitlink-cu12==12.4.127 (from torch>=1.11.0->sentence-transformers)\n",
            "  Downloading nvidia_nvjitlink_cu12-12.4.127-py3-none-manylinux2014_x86_64.whl.metadata (1.5 kB)\n",
            "Requirement already satisfied: triton==3.2.0 in /usr/local/lib/python3.11/dist-packages (from torch>=1.11.0->sentence-transformers) (3.2.0)\n",
            "Requirement already satisfied: sympy==1.13.1 in /usr/local/lib/python3.11/dist-packages (from torch>=1.11.0->sentence-transformers) (1.13.1)\n",
            "Requirement already satisfied: mpmath<1.4,>=1.1.0 in /usr/local/lib/python3.11/dist-packages (from sympy==1.13.1->torch>=1.11.0->sentence-transformers) (1.3.0)\n",
            "Requirement already satisfied: regex!=2019.12.17 in /usr/local/lib/python3.11/dist-packages (from transformers<5.0.0,>=4.41.0->sentence-transformers) (2024.11.6)\n",
            "Requirement already satisfied: tokenizers<0.22,>=0.21 in /usr/local/lib/python3.11/dist-packages (from transformers<5.0.0,>=4.41.0->sentence-transformers) (0.21.2)\n",
            "Requirement already satisfied: safetensors>=0.4.3 in /usr/local/lib/python3.11/dist-packages (from transformers<5.0.0,>=4.41.0->sentence-transformers) (0.5.3)\n",
            "Requirement already satisfied: numba>=0.51.2 in /usr/local/lib/python3.11/dist-packages (from umap-learn>=0.5.0->bertopic[all]) (0.60.0)\n",
            "Requirement already satisfied: pynndescent>=0.5 in /usr/local/lib/python3.11/dist-packages (from umap-learn>=0.5.0->bertopic[all]) (0.5.13)\n",
            "Requirement already satisfied: llvmlite<0.44,>=0.43.0dev0 in /usr/local/lib/python3.11/dist-packages (from numba>=0.51.2->umap-learn>=0.5.0->bertopic[all]) (0.43.0)\n",
            "Requirement already satisfied: six>=1.5 in /usr/local/lib/python3.11/dist-packages (from python-dateutil>=2.8.2->pandas>=1.1.5->bertopic[all]) (1.17.0)\n",
            "Requirement already satisfied: MarkupSafe>=2.0 in /usr/local/lib/python3.11/dist-packages (from jinja2->torch>=1.11.0->sentence-transformers) (3.0.2)\n",
            "Requirement already satisfied: charset-normalizer<4,>=2 in /usr/local/lib/python3.11/dist-packages (from requests->huggingface-hub>=0.20.0->sentence-transformers) (3.4.2)\n",
            "Requirement already satisfied: idna<4,>=2.5 in /usr/local/lib/python3.11/dist-packages (from requests->huggingface-hub>=0.20.0->sentence-transformers) (3.10)\n",
            "Requirement already satisfied: urllib3<3,>=1.21.1 in /usr/local/lib/python3.11/dist-packages (from requests->huggingface-hub>=0.20.0->sentence-transformers) (2.4.0)\n",
            "Requirement already satisfied: certifi>=2017.4.17 in /usr/local/lib/python3.11/dist-packages (from requests->huggingface-hub>=0.20.0->sentence-transformers) (2025.6.15)\n",
            "Downloading nvidia_cublas_cu12-12.4.5.8-py3-none-manylinux2014_x86_64.whl (363.4 MB)\n",
            "\u001b[2K   \u001b[90m━━━━━━━━━━━━━━━━━━━━━━━━━━━━━━━━━━━━━━━━\u001b[0m \u001b[32m363.4/363.4 MB\u001b[0m \u001b[31m4.6 MB/s\u001b[0m eta \u001b[36m0:00:00\u001b[0m\n",
            "\u001b[?25hDownloading nvidia_cuda_cupti_cu12-12.4.127-py3-none-manylinux2014_x86_64.whl (13.8 MB)\n",
            "\u001b[2K   \u001b[90m━━━━━━━━━━━━━━━━━━━━━━━━━━━━━━━━━━━━━━━━\u001b[0m \u001b[32m13.8/13.8 MB\u001b[0m \u001b[31m121.1 MB/s\u001b[0m eta \u001b[36m0:00:00\u001b[0m\n",
            "\u001b[?25hDownloading nvidia_cuda_nvrtc_cu12-12.4.127-py3-none-manylinux2014_x86_64.whl (24.6 MB)\n",
            "\u001b[2K   \u001b[90m━━━━━━━━━━━━━━━━━━━━━━━━━━━━━━━━━━━━━━━━\u001b[0m \u001b[32m24.6/24.6 MB\u001b[0m \u001b[31m91.9 MB/s\u001b[0m eta \u001b[36m0:00:00\u001b[0m\n",
            "\u001b[?25hDownloading nvidia_cuda_runtime_cu12-12.4.127-py3-none-manylinux2014_x86_64.whl (883 kB)\n",
            "\u001b[2K   \u001b[90m━━━━━━━━━━━━━━━━━━━━━━━━━━━━━━━━━━━━━━━━\u001b[0m \u001b[32m883.7/883.7 kB\u001b[0m \u001b[31m56.9 MB/s\u001b[0m eta \u001b[36m0:00:00\u001b[0m\n",
            "\u001b[?25hDownloading nvidia_cudnn_cu12-9.1.0.70-py3-none-manylinux2014_x86_64.whl (664.8 MB)\n",
            "\u001b[2K   \u001b[90m━━━━━━━━━━━━━━━━━━━━━━━━━━━━━━━━━━━━━━━\u001b[0m \u001b[32m664.8/664.8 MB\u001b[0m \u001b[31m829.5 kB/s\u001b[0m eta \u001b[36m0:00:00\u001b[0m\n",
            "\u001b[?25hDownloading nvidia_cufft_cu12-11.2.1.3-py3-none-manylinux2014_x86_64.whl (211.5 MB)\n",
            "\u001b[2K   \u001b[90m━━━━━━━━━━━━━━━━━━━━━━━━━━━━━━━━━━━━━━━━\u001b[0m \u001b[32m211.5/211.5 MB\u001b[0m \u001b[31m6.5 MB/s\u001b[0m eta \u001b[36m0:00:00\u001b[0m\n",
            "\u001b[?25hDownloading nvidia_curand_cu12-10.3.5.147-py3-none-manylinux2014_x86_64.whl (56.3 MB)\n",
            "\u001b[2K   \u001b[90m━━━━━━━━━━━━━━━━━━━━━━━━━━━━━━━━━━━━━━━━\u001b[0m \u001b[32m56.3/56.3 MB\u001b[0m \u001b[31m13.5 MB/s\u001b[0m eta \u001b[36m0:00:00\u001b[0m\n",
            "\u001b[?25hDownloading nvidia_cusolver_cu12-11.6.1.9-py3-none-manylinux2014_x86_64.whl (127.9 MB)\n",
            "\u001b[2K   \u001b[90m━━━━━━━━━━━━━━━━━━━━━━━━━━━━━━━━━━━━━━━━\u001b[0m \u001b[32m127.9/127.9 MB\u001b[0m \u001b[31m6.7 MB/s\u001b[0m eta \u001b[36m0:00:00\u001b[0m\n",
            "\u001b[?25hDownloading nvidia_cusparse_cu12-12.3.1.170-py3-none-manylinux2014_x86_64.whl (207.5 MB)\n",
            "\u001b[2K   \u001b[90m━━━━━━━━━━━━━━━━━━━━━━━━━━━━━━━━━━━━━━━━\u001b[0m \u001b[32m207.5/207.5 MB\u001b[0m \u001b[31m2.9 MB/s\u001b[0m eta \u001b[36m0:00:00\u001b[0m\n",
            "\u001b[?25hDownloading nvidia_nvjitlink_cu12-12.4.127-py3-none-manylinux2014_x86_64.whl (21.1 MB)\n",
            "\u001b[2K   \u001b[90m━━━━━━━━━━━━━━━━━━━━━━━━━━━━━━━━━━━━━━━━\u001b[0m \u001b[32m21.1/21.1 MB\u001b[0m \u001b[31m91.8 MB/s\u001b[0m eta \u001b[36m0:00:00\u001b[0m\n",
            "\u001b[?25hDownloading bertopic-0.17.0-py3-none-any.whl (150 kB)\n",
            "\u001b[2K   \u001b[90m━━━━━━━━━━━━━━━━━━━━━━━━━━━━━━━━━━━━━━━━\u001b[0m \u001b[32m150.6/150.6 kB\u001b[0m \u001b[31m14.2 MB/s\u001b[0m eta \u001b[36m0:00:00\u001b[0m\n",
            "\u001b[?25hInstalling collected packages: nvidia-nvjitlink-cu12, nvidia-curand-cu12, nvidia-cufft-cu12, nvidia-cuda-runtime-cu12, nvidia-cuda-nvrtc-cu12, nvidia-cuda-cupti-cu12, nvidia-cublas-cu12, nvidia-cusparse-cu12, nvidia-cudnn-cu12, nvidia-cusolver-cu12, bertopic\n",
            "  Attempting uninstall: nvidia-nvjitlink-cu12\n",
            "    Found existing installation: nvidia-nvjitlink-cu12 12.5.82\n",
            "    Uninstalling nvidia-nvjitlink-cu12-12.5.82:\n",
            "      Successfully uninstalled nvidia-nvjitlink-cu12-12.5.82\n",
            "  Attempting uninstall: nvidia-curand-cu12\n",
            "    Found existing installation: nvidia-curand-cu12 10.3.6.82\n",
            "    Uninstalling nvidia-curand-cu12-10.3.6.82:\n",
            "      Successfully uninstalled nvidia-curand-cu12-10.3.6.82\n",
            "  Attempting uninstall: nvidia-cufft-cu12\n",
            "    Found existing installation: nvidia-cufft-cu12 11.2.3.61\n",
            "    Uninstalling nvidia-cufft-cu12-11.2.3.61:\n",
            "      Successfully uninstalled nvidia-cufft-cu12-11.2.3.61\n",
            "  Attempting uninstall: nvidia-cuda-runtime-cu12\n",
            "    Found existing installation: nvidia-cuda-runtime-cu12 12.5.82\n",
            "    Uninstalling nvidia-cuda-runtime-cu12-12.5.82:\n",
            "      Successfully uninstalled nvidia-cuda-runtime-cu12-12.5.82\n",
            "  Attempting uninstall: nvidia-cuda-nvrtc-cu12\n",
            "    Found existing installation: nvidia-cuda-nvrtc-cu12 12.5.82\n",
            "    Uninstalling nvidia-cuda-nvrtc-cu12-12.5.82:\n",
            "      Successfully uninstalled nvidia-cuda-nvrtc-cu12-12.5.82\n",
            "  Attempting uninstall: nvidia-cuda-cupti-cu12\n",
            "    Found existing installation: nvidia-cuda-cupti-cu12 12.5.82\n",
            "    Uninstalling nvidia-cuda-cupti-cu12-12.5.82:\n",
            "      Successfully uninstalled nvidia-cuda-cupti-cu12-12.5.82\n",
            "  Attempting uninstall: nvidia-cublas-cu12\n",
            "    Found existing installation: nvidia-cublas-cu12 12.5.3.2\n",
            "    Uninstalling nvidia-cublas-cu12-12.5.3.2:\n",
            "      Successfully uninstalled nvidia-cublas-cu12-12.5.3.2\n",
            "  Attempting uninstall: nvidia-cusparse-cu12\n",
            "    Found existing installation: nvidia-cusparse-cu12 12.5.1.3\n",
            "    Uninstalling nvidia-cusparse-cu12-12.5.1.3:\n",
            "      Successfully uninstalled nvidia-cusparse-cu12-12.5.1.3\n",
            "  Attempting uninstall: nvidia-cudnn-cu12\n",
            "    Found existing installation: nvidia-cudnn-cu12 9.3.0.75\n",
            "    Uninstalling nvidia-cudnn-cu12-9.3.0.75:\n",
            "      Successfully uninstalled nvidia-cudnn-cu12-9.3.0.75\n",
            "  Attempting uninstall: nvidia-cusolver-cu12\n",
            "    Found existing installation: nvidia-cusolver-cu12 11.6.3.83\n",
            "    Uninstalling nvidia-cusolver-cu12-11.6.3.83:\n",
            "      Successfully uninstalled nvidia-cusolver-cu12-11.6.3.83\n",
            "Successfully installed bertopic-0.17.0 nvidia-cublas-cu12-12.4.5.8 nvidia-cuda-cupti-cu12-12.4.127 nvidia-cuda-nvrtc-cu12-12.4.127 nvidia-cuda-runtime-cu12-12.4.127 nvidia-cudnn-cu12-9.1.0.70 nvidia-cufft-cu12-11.2.1.3 nvidia-curand-cu12-10.3.5.147 nvidia-cusolver-cu12-11.6.1.9 nvidia-cusparse-cu12-12.3.1.170 nvidia-nvjitlink-cu12-12.4.127\n"
          ]
        }
      ],
      "source": [
        "import pandas as pd\n",
        "import os\n",
        "import spacy\n",
        "import re\n",
        "import numpy as np\n",
        "import random\n",
        "\n",
        "# !python -m spacy download en_core_web_md\n",
        "\n",
        "from sklearn.feature_extraction.text import TfidfVectorizer\n",
        "\n",
        "from sklearn.cluster import KMeans\n",
        "\n",
        "# Importing Topic modelling libraries\n",
        "# !pip install bertopic[all] sentence-transformers\n",
        "from bertopic import BERTopic\n",
        "from sentence_transformers import SentenceTransformer"
      ]
    },
    {
      "cell_type": "markdown",
      "source": [
        "# Loading Dataset"
      ],
      "metadata": {
        "id": "uOk0kDLSSvyh"
      }
    },
    {
      "cell_type": "code",
      "source": [
        "from google.colab import drive\n",
        "drive.mount('/content/drive')"
      ],
      "metadata": {
        "colab": {
          "base_uri": "https://localhost:8080/"
        },
        "id": "dvK9_FM_WqPP",
        "outputId": "94f476dc-ad6f-46d8-e617-79c90cdaa956"
      },
      "execution_count": null,
      "outputs": [
        {
          "output_type": "stream",
          "name": "stdout",
          "text": [
            "Mounted at /content/drive\n"
          ]
        }
      ]
    },
    {
      "cell_type": "code",
      "source": [
        "dataset_path = '/content/drive/MyDrive/bbc'\n",
        "dataset = []"
      ],
      "metadata": {
        "id": "mIL5v9aIXa_P"
      },
      "execution_count": null,
      "outputs": []
    },
    {
      "cell_type": "markdown",
      "source": [
        "Firstly, I would combine the various text files into a list, and then a dataframe, to make processing easier"
      ],
      "metadata": {
        "id": "7E8UEYkT115_"
      }
    },
    {
      "cell_type": "code",
      "source": [
        "for category in os.listdir(dataset_path):       #loops through the items in root dataset folder\n",
        "    category_path = os.path.join(dataset_path, category)       #constructs the path for each item\n",
        "    if os.path.isdir(category_path):       #checks what items are directories\n",
        "        for filename in os.listdir(category_path):       #loops through directories\n",
        "            file_path = os.path.join(category_path, filename)       #constructs the path for each filee\n",
        "            with open(file_path, 'r', encoding='utf-8') as file:\n",
        "                text = file.read().strip()\n",
        "                dataset.append({'text':text, 'category':category})"
      ],
      "metadata": {
        "id": "3AWdQaMvYuxh"
      },
      "execution_count": null,
      "outputs": []
    },
    {
      "cell_type": "code",
      "source": [
        "text_df = pd.DataFrame(dataset)      # converting the resulting list to a dataframe"
      ],
      "metadata": {
        "id": "DuBBmv0wmz7u"
      },
      "execution_count": null,
      "outputs": []
    },
    {
      "cell_type": "code",
      "source": [
        "text_df"
      ],
      "metadata": {
        "colab": {
          "base_uri": "https://localhost:8080/",
          "height": 424
        },
        "id": "CVlKYU33nAPJ",
        "outputId": "dc37f4e6-53f4-4eb4-d7f9-31d0b64025af"
      },
      "execution_count": null,
      "outputs": [
        {
          "output_type": "execute_result",
          "data": {
            "text/plain": [
              "                                                   text       category\n",
              "0     Rapper Snoop Dogg sued for 'rape'\\n\\nUS rapper...  entertainment\n",
              "1     Vera Drake's Bafta triumph hope\\n\\nAt the Baft...  entertainment\n",
              "2     God cut from Dark Materials film\\n\\nThe direct...  entertainment\n",
              "3     Films on war triumph at Sundance\\n\\nA study of...  entertainment\n",
              "4     Ray DVD beats box office takings\\n\\nOscar-nomi...  entertainment\n",
              "...                                                 ...            ...\n",
              "2220  Guantanamo pair's passport ban\\n\\nThe governme...       politics\n",
              "2221  Will Tory tax cuts lift spirits?\\n\\nMichael Ho...       politics\n",
              "2222  Job cuts 'false economy'  - TUC\\n\\nPlans to sh...       politics\n",
              "2223  Labour in constituency race row\\n\\nLabour's ch...       politics\n",
              "2224  Kilroy-Silk attacked with slurry\\n\\nEuro MP Ro...       politics\n",
              "\n",
              "[2225 rows x 2 columns]"
            ],
            "text/html": [
              "\n",
              "  <div id=\"df-e557ad59-b542-4932-843e-40690b693236\" class=\"colab-df-container\">\n",
              "    <div>\n",
              "<style scoped>\n",
              "    .dataframe tbody tr th:only-of-type {\n",
              "        vertical-align: middle;\n",
              "    }\n",
              "\n",
              "    .dataframe tbody tr th {\n",
              "        vertical-align: top;\n",
              "    }\n",
              "\n",
              "    .dataframe thead th {\n",
              "        text-align: right;\n",
              "    }\n",
              "</style>\n",
              "<table border=\"1\" class=\"dataframe\">\n",
              "  <thead>\n",
              "    <tr style=\"text-align: right;\">\n",
              "      <th></th>\n",
              "      <th>text</th>\n",
              "      <th>category</th>\n",
              "    </tr>\n",
              "  </thead>\n",
              "  <tbody>\n",
              "    <tr>\n",
              "      <th>0</th>\n",
              "      <td>Rapper Snoop Dogg sued for 'rape'\\n\\nUS rapper...</td>\n",
              "      <td>entertainment</td>\n",
              "    </tr>\n",
              "    <tr>\n",
              "      <th>1</th>\n",
              "      <td>Vera Drake's Bafta triumph hope\\n\\nAt the Baft...</td>\n",
              "      <td>entertainment</td>\n",
              "    </tr>\n",
              "    <tr>\n",
              "      <th>2</th>\n",
              "      <td>God cut from Dark Materials film\\n\\nThe direct...</td>\n",
              "      <td>entertainment</td>\n",
              "    </tr>\n",
              "    <tr>\n",
              "      <th>3</th>\n",
              "      <td>Films on war triumph at Sundance\\n\\nA study of...</td>\n",
              "      <td>entertainment</td>\n",
              "    </tr>\n",
              "    <tr>\n",
              "      <th>4</th>\n",
              "      <td>Ray DVD beats box office takings\\n\\nOscar-nomi...</td>\n",
              "      <td>entertainment</td>\n",
              "    </tr>\n",
              "    <tr>\n",
              "      <th>...</th>\n",
              "      <td>...</td>\n",
              "      <td>...</td>\n",
              "    </tr>\n",
              "    <tr>\n",
              "      <th>2220</th>\n",
              "      <td>Guantanamo pair's passport ban\\n\\nThe governme...</td>\n",
              "      <td>politics</td>\n",
              "    </tr>\n",
              "    <tr>\n",
              "      <th>2221</th>\n",
              "      <td>Will Tory tax cuts lift spirits?\\n\\nMichael Ho...</td>\n",
              "      <td>politics</td>\n",
              "    </tr>\n",
              "    <tr>\n",
              "      <th>2222</th>\n",
              "      <td>Job cuts 'false economy'  - TUC\\n\\nPlans to sh...</td>\n",
              "      <td>politics</td>\n",
              "    </tr>\n",
              "    <tr>\n",
              "      <th>2223</th>\n",
              "      <td>Labour in constituency race row\\n\\nLabour's ch...</td>\n",
              "      <td>politics</td>\n",
              "    </tr>\n",
              "    <tr>\n",
              "      <th>2224</th>\n",
              "      <td>Kilroy-Silk attacked with slurry\\n\\nEuro MP Ro...</td>\n",
              "      <td>politics</td>\n",
              "    </tr>\n",
              "  </tbody>\n",
              "</table>\n",
              "<p>2225 rows × 2 columns</p>\n",
              "</div>\n",
              "    <div class=\"colab-df-buttons\">\n",
              "\n",
              "  <div class=\"colab-df-container\">\n",
              "    <button class=\"colab-df-convert\" onclick=\"convertToInteractive('df-e557ad59-b542-4932-843e-40690b693236')\"\n",
              "            title=\"Convert this dataframe to an interactive table.\"\n",
              "            style=\"display:none;\">\n",
              "\n",
              "  <svg xmlns=\"http://www.w3.org/2000/svg\" height=\"24px\" viewBox=\"0 -960 960 960\">\n",
              "    <path d=\"M120-120v-720h720v720H120Zm60-500h600v-160H180v160Zm220 220h160v-160H400v160Zm0 220h160v-160H400v160ZM180-400h160v-160H180v160Zm440 0h160v-160H620v160ZM180-180h160v-160H180v160Zm440 0h160v-160H620v160Z\"/>\n",
              "  </svg>\n",
              "    </button>\n",
              "\n",
              "  <style>\n",
              "    .colab-df-container {\n",
              "      display:flex;\n",
              "      gap: 12px;\n",
              "    }\n",
              "\n",
              "    .colab-df-convert {\n",
              "      background-color: #E8F0FE;\n",
              "      border: none;\n",
              "      border-radius: 50%;\n",
              "      cursor: pointer;\n",
              "      display: none;\n",
              "      fill: #1967D2;\n",
              "      height: 32px;\n",
              "      padding: 0 0 0 0;\n",
              "      width: 32px;\n",
              "    }\n",
              "\n",
              "    .colab-df-convert:hover {\n",
              "      background-color: #E2EBFA;\n",
              "      box-shadow: 0px 1px 2px rgba(60, 64, 67, 0.3), 0px 1px 3px 1px rgba(60, 64, 67, 0.15);\n",
              "      fill: #174EA6;\n",
              "    }\n",
              "\n",
              "    .colab-df-buttons div {\n",
              "      margin-bottom: 4px;\n",
              "    }\n",
              "\n",
              "    [theme=dark] .colab-df-convert {\n",
              "      background-color: #3B4455;\n",
              "      fill: #D2E3FC;\n",
              "    }\n",
              "\n",
              "    [theme=dark] .colab-df-convert:hover {\n",
              "      background-color: #434B5C;\n",
              "      box-shadow: 0px 1px 3px 1px rgba(0, 0, 0, 0.15);\n",
              "      filter: drop-shadow(0px 1px 2px rgba(0, 0, 0, 0.3));\n",
              "      fill: #FFFFFF;\n",
              "    }\n",
              "  </style>\n",
              "\n",
              "    <script>\n",
              "      const buttonEl =\n",
              "        document.querySelector('#df-e557ad59-b542-4932-843e-40690b693236 button.colab-df-convert');\n",
              "      buttonEl.style.display =\n",
              "        google.colab.kernel.accessAllowed ? 'block' : 'none';\n",
              "\n",
              "      async function convertToInteractive(key) {\n",
              "        const element = document.querySelector('#df-e557ad59-b542-4932-843e-40690b693236');\n",
              "        const dataTable =\n",
              "          await google.colab.kernel.invokeFunction('convertToInteractive',\n",
              "                                                    [key], {});\n",
              "        if (!dataTable) return;\n",
              "\n",
              "        const docLinkHtml = 'Like what you see? Visit the ' +\n",
              "          '<a target=\"_blank\" href=https://colab.research.google.com/notebooks/data_table.ipynb>data table notebook</a>'\n",
              "          + ' to learn more about interactive tables.';\n",
              "        element.innerHTML = '';\n",
              "        dataTable['output_type'] = 'display_data';\n",
              "        await google.colab.output.renderOutput(dataTable, element);\n",
              "        const docLink = document.createElement('div');\n",
              "        docLink.innerHTML = docLinkHtml;\n",
              "        element.appendChild(docLink);\n",
              "      }\n",
              "    </script>\n",
              "  </div>\n",
              "\n",
              "\n",
              "    <div id=\"df-10a75265-fc25-425a-a39b-4a0dd58bc88d\">\n",
              "      <button class=\"colab-df-quickchart\" onclick=\"quickchart('df-10a75265-fc25-425a-a39b-4a0dd58bc88d')\"\n",
              "                title=\"Suggest charts\"\n",
              "                style=\"display:none;\">\n",
              "\n",
              "<svg xmlns=\"http://www.w3.org/2000/svg\" height=\"24px\"viewBox=\"0 0 24 24\"\n",
              "     width=\"24px\">\n",
              "    <g>\n",
              "        <path d=\"M19 3H5c-1.1 0-2 .9-2 2v14c0 1.1.9 2 2 2h14c1.1 0 2-.9 2-2V5c0-1.1-.9-2-2-2zM9 17H7v-7h2v7zm4 0h-2V7h2v10zm4 0h-2v-4h2v4z\"/>\n",
              "    </g>\n",
              "</svg>\n",
              "      </button>\n",
              "\n",
              "<style>\n",
              "  .colab-df-quickchart {\n",
              "      --bg-color: #E8F0FE;\n",
              "      --fill-color: #1967D2;\n",
              "      --hover-bg-color: #E2EBFA;\n",
              "      --hover-fill-color: #174EA6;\n",
              "      --disabled-fill-color: #AAA;\n",
              "      --disabled-bg-color: #DDD;\n",
              "  }\n",
              "\n",
              "  [theme=dark] .colab-df-quickchart {\n",
              "      --bg-color: #3B4455;\n",
              "      --fill-color: #D2E3FC;\n",
              "      --hover-bg-color: #434B5C;\n",
              "      --hover-fill-color: #FFFFFF;\n",
              "      --disabled-bg-color: #3B4455;\n",
              "      --disabled-fill-color: #666;\n",
              "  }\n",
              "\n",
              "  .colab-df-quickchart {\n",
              "    background-color: var(--bg-color);\n",
              "    border: none;\n",
              "    border-radius: 50%;\n",
              "    cursor: pointer;\n",
              "    display: none;\n",
              "    fill: var(--fill-color);\n",
              "    height: 32px;\n",
              "    padding: 0;\n",
              "    width: 32px;\n",
              "  }\n",
              "\n",
              "  .colab-df-quickchart:hover {\n",
              "    background-color: var(--hover-bg-color);\n",
              "    box-shadow: 0 1px 2px rgba(60, 64, 67, 0.3), 0 1px 3px 1px rgba(60, 64, 67, 0.15);\n",
              "    fill: var(--button-hover-fill-color);\n",
              "  }\n",
              "\n",
              "  .colab-df-quickchart-complete:disabled,\n",
              "  .colab-df-quickchart-complete:disabled:hover {\n",
              "    background-color: var(--disabled-bg-color);\n",
              "    fill: var(--disabled-fill-color);\n",
              "    box-shadow: none;\n",
              "  }\n",
              "\n",
              "  .colab-df-spinner {\n",
              "    border: 2px solid var(--fill-color);\n",
              "    border-color: transparent;\n",
              "    border-bottom-color: var(--fill-color);\n",
              "    animation:\n",
              "      spin 1s steps(1) infinite;\n",
              "  }\n",
              "\n",
              "  @keyframes spin {\n",
              "    0% {\n",
              "      border-color: transparent;\n",
              "      border-bottom-color: var(--fill-color);\n",
              "      border-left-color: var(--fill-color);\n",
              "    }\n",
              "    20% {\n",
              "      border-color: transparent;\n",
              "      border-left-color: var(--fill-color);\n",
              "      border-top-color: var(--fill-color);\n",
              "    }\n",
              "    30% {\n",
              "      border-color: transparent;\n",
              "      border-left-color: var(--fill-color);\n",
              "      border-top-color: var(--fill-color);\n",
              "      border-right-color: var(--fill-color);\n",
              "    }\n",
              "    40% {\n",
              "      border-color: transparent;\n",
              "      border-right-color: var(--fill-color);\n",
              "      border-top-color: var(--fill-color);\n",
              "    }\n",
              "    60% {\n",
              "      border-color: transparent;\n",
              "      border-right-color: var(--fill-color);\n",
              "    }\n",
              "    80% {\n",
              "      border-color: transparent;\n",
              "      border-right-color: var(--fill-color);\n",
              "      border-bottom-color: var(--fill-color);\n",
              "    }\n",
              "    90% {\n",
              "      border-color: transparent;\n",
              "      border-bottom-color: var(--fill-color);\n",
              "    }\n",
              "  }\n",
              "</style>\n",
              "\n",
              "      <script>\n",
              "        async function quickchart(key) {\n",
              "          const quickchartButtonEl =\n",
              "            document.querySelector('#' + key + ' button');\n",
              "          quickchartButtonEl.disabled = true;  // To prevent multiple clicks.\n",
              "          quickchartButtonEl.classList.add('colab-df-spinner');\n",
              "          try {\n",
              "            const charts = await google.colab.kernel.invokeFunction(\n",
              "                'suggestCharts', [key], {});\n",
              "          } catch (error) {\n",
              "            console.error('Error during call to suggestCharts:', error);\n",
              "          }\n",
              "          quickchartButtonEl.classList.remove('colab-df-spinner');\n",
              "          quickchartButtonEl.classList.add('colab-df-quickchart-complete');\n",
              "        }\n",
              "        (() => {\n",
              "          let quickchartButtonEl =\n",
              "            document.querySelector('#df-10a75265-fc25-425a-a39b-4a0dd58bc88d button');\n",
              "          quickchartButtonEl.style.display =\n",
              "            google.colab.kernel.accessAllowed ? 'block' : 'none';\n",
              "        })();\n",
              "      </script>\n",
              "    </div>\n",
              "\n",
              "  <div id=\"id_f4e5b912-394f-4c01-a08f-cdae076419f9\">\n",
              "    <style>\n",
              "      .colab-df-generate {\n",
              "        background-color: #E8F0FE;\n",
              "        border: none;\n",
              "        border-radius: 50%;\n",
              "        cursor: pointer;\n",
              "        display: none;\n",
              "        fill: #1967D2;\n",
              "        height: 32px;\n",
              "        padding: 0 0 0 0;\n",
              "        width: 32px;\n",
              "      }\n",
              "\n",
              "      .colab-df-generate:hover {\n",
              "        background-color: #E2EBFA;\n",
              "        box-shadow: 0px 1px 2px rgba(60, 64, 67, 0.3), 0px 1px 3px 1px rgba(60, 64, 67, 0.15);\n",
              "        fill: #174EA6;\n",
              "      }\n",
              "\n",
              "      [theme=dark] .colab-df-generate {\n",
              "        background-color: #3B4455;\n",
              "        fill: #D2E3FC;\n",
              "      }\n",
              "\n",
              "      [theme=dark] .colab-df-generate:hover {\n",
              "        background-color: #434B5C;\n",
              "        box-shadow: 0px 1px 3px 1px rgba(0, 0, 0, 0.15);\n",
              "        filter: drop-shadow(0px 1px 2px rgba(0, 0, 0, 0.3));\n",
              "        fill: #FFFFFF;\n",
              "      }\n",
              "    </style>\n",
              "    <button class=\"colab-df-generate\" onclick=\"generateWithVariable('text_df')\"\n",
              "            title=\"Generate code using this dataframe.\"\n",
              "            style=\"display:none;\">\n",
              "\n",
              "  <svg xmlns=\"http://www.w3.org/2000/svg\" height=\"24px\"viewBox=\"0 0 24 24\"\n",
              "       width=\"24px\">\n",
              "    <path d=\"M7,19H8.4L18.45,9,17,7.55,7,17.6ZM5,21V16.75L18.45,3.32a2,2,0,0,1,2.83,0l1.4,1.43a1.91,1.91,0,0,1,.58,1.4,1.91,1.91,0,0,1-.58,1.4L9.25,21ZM18.45,9,17,7.55Zm-12,3A5.31,5.31,0,0,0,4.9,8.1,5.31,5.31,0,0,0,1,6.5,5.31,5.31,0,0,0,4.9,4.9,5.31,5.31,0,0,0,6.5,1,5.31,5.31,0,0,0,8.1,4.9,5.31,5.31,0,0,0,12,6.5,5.46,5.46,0,0,0,6.5,12Z\"/>\n",
              "  </svg>\n",
              "    </button>\n",
              "    <script>\n",
              "      (() => {\n",
              "      const buttonEl =\n",
              "        document.querySelector('#id_f4e5b912-394f-4c01-a08f-cdae076419f9 button.colab-df-generate');\n",
              "      buttonEl.style.display =\n",
              "        google.colab.kernel.accessAllowed ? 'block' : 'none';\n",
              "\n",
              "      buttonEl.onclick = () => {\n",
              "        google.colab.notebook.generateWithVariable('text_df');\n",
              "      }\n",
              "      })();\n",
              "    </script>\n",
              "  </div>\n",
              "\n",
              "    </div>\n",
              "  </div>\n"
            ],
            "application/vnd.google.colaboratory.intrinsic+json": {
              "type": "dataframe",
              "variable_name": "text_df",
              "summary": "{\n  \"name\": \"text_df\",\n  \"rows\": 2225,\n  \"fields\": [\n    {\n      \"column\": \"text\",\n      \"properties\": {\n        \"dtype\": \"string\",\n        \"num_unique_values\": 2127,\n        \"samples\": [\n          \"Hillbillies singer Scoggins dies\\n\\nCountry and Western musician Jerry Scoggins has died in Los Angeles at the age of 93, his family has said.\\n\\nScoggins was best remembered for singing the theme tune to popular US TV show The Beverly Hillbillies. The Texan-born singer approached the producers of the programme with theme tune The Ballad of Jed Clampett for the pilot which was screened in 1962. The show, which told the story of a poor man striking oil and moving to Beverly Hills, ran until 1971.\\n\\nScoggins' daugher Jane Kelly Misel said that her father never tired of the song and would sing it at least once a day. \\\"He'd sing it at birthdays and anniversaries and variety shows. He never stopped performing it,\\\" she said. When a film version of The Beverly Hillbillies was made in 1993, Scoggins came out of retirement to perform the theme tune. Scoggins sang the lyrics while bluegrass stars Lester Flatt and Earl Scruggs played guitar and banjo.\",\n          \"Blair says mayor should apologise\\n\\nTony Blair has urged London mayor Ken Livingstone to apologise for his \\\"Nazi\\\" comment to a Jewish reporter.\\n\\nLabour's Mr Livingstone, who says he is \\\"standing by\\\" his remarks, had accused an Evening Standard journalist of being like a \\\"concentration camp guard\\\". Mr Blair told Five's Wright Stuff show: \\\"Let's just apologise and move on.\\\" Mr Livingstone has said the remarks may have been offensive but were not racist, and said he would not apologise even if the prime minister asked.\\n\\nMr Blair, who was instrumental in returning Mr Livingstone to the Labour Party, insisted on Wednesday it was time for the London mayor to say sorry.\\n\\n\\\"A lot of us in politics get angry with journalists from time to time, but in the circumstances, and to the journalist because he was a Jewish journalist, yes, he should apologise,\\\" he said. \\\"Let's just apologise and move on - that's the sensible thing.\\\" Tory leader Michael Howard, asked about Mr Livingstone's remark by reporters, said it was important for politicians to be mindful about the language they use. \\\"It's particularly important that as we get close to the election that politicians talk with civility and courtesy about issues that we all face,\\\" he said. \\\"I think it's a matter of sadness that we are not seeing that from the Labour Party. We had what Ken Livingstone said, we had what Alastair Campbell has said and we have what others have said. I think that's a matter of great regret.\\\"\\n\\nThe row blew up after Mr Livingstone was approached by Evening Standard reporter Oliver Finegold following a party marking the 20th anniversary of former Culture Secretary Chris Smith coming out as Britain's first gay MP. On tape, Mr Livingstone, who once worked as a freelance restaurant critic on the paper, is heard asking Mr Finegold if he is a \\\"German war criminal\\\".\\n\\nMr Finegold replies: \\\"No, I'm Jewish, I wasn't a German war criminal. I'm quite offended by that.\\\" The mayor then says: \\\"Ah right, well you might be, but actually you are like a concentration camp guard, you are just doing it because you are paid to, aren't you?\\\" At his weekly press conference on Tuesday, Mr Livingstone said his comments were not racist and refused to apologise. \\\"If you think they are racist, I think you are wrong,\\\" he told reporters. The dispute comes as an inspection team from the International Olympic committee began a four-day tour to assess London's bid for the 2012 Games. An official complaint has been made to local government watchdogs by the British Jews, demanding an investigation by the Standards Board of England. It has the power to suspend or bar Mr Livingstone from public office.\",\n          \"TV future in the hands of viewers\\n\\nWith home theatre systems, plasma high-definition TVs, and digital video recorders moving into the living room, the way people watch TV will be radically different in five years' time.\\n\\nThat is according to an expert panel which gathered at the annual Consumer Electronics Show in Las Vegas to discuss how these new technologies will impact one of our favourite pastimes. With the US leading the trend, programmes and other content will be delivered to viewers via home networks, through cable, satellite, telecoms companies, and broadband service providers to front rooms and portable devices.\\n\\nOne of the most talked-about technologies of CES has been digital and personal video recorders (DVR and PVR). These set-top boxes, like the US's TiVo and the UK's Sky+ system, allow people to record, store, play, pause and forward wind TV programmes when they want.\\n\\nEssentially, the technology allows for much more personalised TV. They are also being built-in to high-definition TV sets, which are big business in Japan and the US, but slower to take off in Europe because of the lack of high-definition programming. Not only can people forward wind through adverts, they can also forget about abiding by network and channel schedules, putting together their own a-la-carte entertainment. But some US networks and cable and satellite companies are worried about what it means for them in terms of advertising revenues as well as \\\"brand identity\\\" and viewer loyalty to channels. Although the US leads in this technology at the moment, it is also a concern that is being raised in Europe, particularly with the growing uptake of services like Sky+. \\\"What happens here today, we will see in nine months to a years' time in the UK,\\\" Adam Hume, the BBC Broadcast's futurologist told the BBC News website. For the likes of the BBC, there are no issues of lost advertising revenue yet. It is a more pressing issue at the moment for commercial UK broadcasters, but brand loyalty is important for everyone. \\\"We will be talking more about content brands rather than network brands,\\\" said Tim Hanlon, from brand communications firm Starcom MediaVest. \\\"The reality is that with broadband connections, anybody can be the producer of content.\\\" He added: \\\"The challenge now is that it is hard to promote a programme with so much choice.\\\"\\n\\nWhat this means, said Stacey Jolna, senior vice president of TV Guide TV group, is that the way people find the content they want to watch has to be simplified for TV viewers. It means that networks, in US terms, or channels could take a leaf out of Google's book and be the search engine of the future, instead of the scheduler to help people find what they want to watch. This kind of channel model might work for the younger iPod generation which is used to taking control of their gadgets and what they play on them. But it might not suit everyone, the panel recognised. Older generations are more comfortable with familiar schedules and channel brands because they know what they are getting. They perhaps do not want so much of the choice put into their hands, Mr Hanlon suggested. \\\"On the other end, you have the kids just out of diapers who are pushing buttons already - everything is possible and available to them,\\\" said Mr Hanlon. \\\"Ultimately, the consumer will tell the market they want.\\\"\\n\\nOf the 50,000 new gadgets and technologies being showcased at CES, many of them are about enhancing the TV-watching experience. High-definition TV sets are everywhere and many new models of LCD (Liquid Crystal Display) TVs have been launched with DVR capability built into them, instead of being external boxes. One such example launched at the show is Humax's 26-inch LCD TV with an 80-hour TiVo DVR and DVD recorder. One of the US's biggest satellite TV companies, DirectTV, has even launched its own branded DVR at the show with 100-hours of recording capability, instant replay, and a search function. The set can pause and rewind TV for up to 90 hours. And Microsoft chief Bill Gates announced in his pre-show keynote speech a partnership with TiVo, called TiVoToGo, which means people can play recorded programmes on Windows PCs and mobile devices. All these reflect the increasing trend of freeing up multimedia so that people can watch what they want, when they want.\"\n        ],\n        \"semantic_type\": \"\",\n        \"description\": \"\"\n      }\n    },\n    {\n      \"column\": \"category\",\n      \"properties\": {\n        \"dtype\": \"category\",\n        \"num_unique_values\": 5,\n        \"samples\": [\n          \"sport\",\n          \"politics\",\n          \"business\"\n        ],\n        \"semantic_type\": \"\",\n        \"description\": \"\"\n      }\n    }\n  ]\n}"
            }
          },
          "metadata": {},
          "execution_count": 6
        }
      ]
    },
    {
      "cell_type": "markdown",
      "source": [
        "# Preprocessing Text Data"
      ],
      "metadata": {
        "id": "2aIDqkPFih1D"
      }
    },
    {
      "cell_type": "code",
      "source": [
        "nlp = spacy.load('en_core_web_sm')\n",
        "\n",
        "#Using the stopword list from http://mlg.ucd.ie/files/datasets/stopwords.txt to preprocess the dataset\n",
        "\n",
        "custom_stopwords = []\n",
        "with open('/content/drive/MyDrive/bbc/stopwords.txt', 'r', encoding='utf-8') as file:\n",
        "    for line in file:\n",
        "        custom_stopwords.append(line.strip())\n",
        "\n",
        "print(custom_stopwords)"
      ],
      "metadata": {
        "colab": {
          "base_uri": "https://localhost:8080/"
        },
        "id": "17eP2bGJftkk",
        "outputId": "2e97ab95-775a-4d3d-8d69-bc4cc24bc927"
      },
      "execution_count": null,
      "outputs": [
        {
          "output_type": "stream",
          "name": "stdout",
          "text": [
            "['a', 'about', 'above', 'according', 'across', 'actually', 'adj', 'after', 'afterwards', 'again', 'all', 'almost', 'along', 'already', 'also', 'although', 'always', 'among', 'amongst', 'an', 'am', 'and', 'another', 'any', 'anyhow', 'anyone', 'anything', 'anywhere', 'are', 'aren', \"aren't\", 'around', 'as', 'at', 'be', 'became', 'because', 'become', 'becomes', 'been', 'beforehand', 'begin', 'being', 'below', 'beside', 'besides', 'between', 'both', 'but', 'by', 'can', 'cannot', \"can't\", 'caption', 'co', 'come', 'could', 'couldn', \"couldn't\", 'did', 'didn', \"didn't\", 'do', 'does', 'doesn', \"doesn't\", 'don', \"don't\", 'down', 'during', 'each', 'early', 'eg', 'either', 'else', 'elsewhere', 'end', 'ending', 'enough', 'etc', 'even', 'ever', 'every', 'everywhere', 'except', 'few', 'for', 'found', 'from', 'further', 'had', 'has', 'hasn', \"hasn't\", 'have', 'haven', \"haven't\", 'he', 'hence', 'her', 'here', 'hereafter', 'hereby', 'herein', 'hereupon', 'hers', 'him', 'his', 'how', 'however', 'ie', 'i.e.', 'if', 'in', 'inc', 'inc.', 'indeed', 'instead', 'into', 'is', 'isn', \"isn't\", 'it', 'its', 'itself', 'last', 'late', 'later', 'less', 'let', 'like', 'likely', 'll', 'ltd', 'made', 'make', 'makes', 'many', 'may', 'maybe', 'me', 'meantime', 'meanwhile', 'might', 'miss', 'more', 'most', 'mostly', 'mr', 'mrs', 'much', 'must', 'my', 'myself', 'namely', 'near', 'neither', 'never', 'nevertheless', 'new', 'next', 'no', 'nobody', 'non', 'none', 'nonetheless', 'noone', 'nor', 'not', 'now', 'NULL', 'of', 'off', 'often', 'on', 'once', 'only', 'onto', 'or', 'other', 'others', 'otherwise', 'our', 'ours', 'ourselves', 'out', 'over', 'own', 'per', 'perhaps', 'rather', 're', 'said', 'same', 'say', 'seem', 'seemed', 'seeming', 'seems', 'several', 'she', 'should', 'shouldn', \"shouldn't\", 'since', 'so', 'some', 'still', 'stop', 'such', 'taking', 'ten', 'than', 'that', 'the', 'their', 'them', 'themselves', 'then', 'thence', 'there', 'thereafter', 'thereby', 'therefore', 'therein', 'thereupon', 'these', 'they', 'this', 'those', 'though', 'thousand', 'through', 'throughout', 'thru', 'thus', 'to', 'together', 'too', 'toward', 'towards', 'under', 'unless', 'unlike', 'unlikely', 'until', 'up', 'upon', 'us', 'use', 'used', 'using', 've', 'very', 'via', 'was', 'wasn', 'we', 'well', 'were', 'weren', \"weren't\", 'what', 'whatever', 'when', 'whence', 'whenever', 'where', 'whereafter', 'whereas', 'whereby', 'wherein', 'whereupon', 'wherever', 'whether', 'which', 'while', 'whither', 'who', 'whoever', 'whole', 'whom', 'whomever', 'whose', 'why', 'will', 'with', 'within', 'without', 'won', 'would', 'wouldn', \"wouldn't\", 'yes', 'yet', 'you', 'your', 'yours', 'yourself', 'yourselves']\n"
          ]
        }
      ]
    },
    {
      "cell_type": "code",
      "source": [
        "#Creating a function for preprocessing - lowercasing, lemmatization, stopword removal\n",
        "\n",
        "def preprocess(text):\n",
        "\n",
        "    # Remove special characters\n",
        "    text = re.sub(r'[^a-zA-Z0-9\\s]', '', text)\n",
        "\n",
        "    # Processing with Spacy\n",
        "    doc = nlp(text)\n",
        "\n",
        "    # Lemmatization and removing stopwords using thee custom list\n",
        "    tokens = [token.lemma_.lower() for token in doc if token.lemma_.lower() not in custom_stopwords]\n",
        "    return ' '.join(tokens)\n",
        "\n",
        "text_df['preprocessed_text'] = text_df['text'].apply(preprocess)"
      ],
      "metadata": {
        "id": "mtlkDafujYE9"
      },
      "execution_count": null,
      "outputs": []
    },
    {
      "cell_type": "code",
      "source": [
        "# Remove newline characters\n",
        "text_df['preprocessed_text'] = text_df['preprocessed_text'].str.replace('\\n', '')\n",
        "text_df.head()"
      ],
      "metadata": {
        "colab": {
          "base_uri": "https://localhost:8080/",
          "height": 206
        },
        "id": "ET59hzj5zGsv",
        "outputId": "65f2770e-0ace-41e7-931f-0d5cbb9f2284"
      },
      "execution_count": null,
      "outputs": [
        {
          "output_type": "execute_result",
          "data": {
            "text/plain": [
              "                                                text       category  \\\n",
              "0  Rapper Snoop Dogg sued for 'rape'\\n\\nUS rapper...  entertainment   \n",
              "1  Vera Drake's Bafta triumph hope\\n\\nAt the Baft...  entertainment   \n",
              "2  God cut from Dark Materials film\\n\\nThe direct...  entertainment   \n",
              "3  Films on war triumph at Sundance\\n\\nA study of...  entertainment   \n",
              "4  Ray DVD beats box office takings\\n\\nOscar-nomi...  entertainment   \n",
              "\n",
              "                                   preprocessed_text  \n",
              "0  rapper snoop dogg sue rape  rapper snoop dogg ...  \n",
              "1  vera drake bafta triumph hope  bafta film awar...  \n",
              "2  god cut dark materials film  director screenwr...  \n",
              "3  film war triumph sundance  study united states...  \n",
              "4  ray dvd beats box office  oscarnominate film b...  "
            ],
            "text/html": [
              "\n",
              "  <div id=\"df-1336beec-69f9-42dd-841f-317b170099ed\" class=\"colab-df-container\">\n",
              "    <div>\n",
              "<style scoped>\n",
              "    .dataframe tbody tr th:only-of-type {\n",
              "        vertical-align: middle;\n",
              "    }\n",
              "\n",
              "    .dataframe tbody tr th {\n",
              "        vertical-align: top;\n",
              "    }\n",
              "\n",
              "    .dataframe thead th {\n",
              "        text-align: right;\n",
              "    }\n",
              "</style>\n",
              "<table border=\"1\" class=\"dataframe\">\n",
              "  <thead>\n",
              "    <tr style=\"text-align: right;\">\n",
              "      <th></th>\n",
              "      <th>text</th>\n",
              "      <th>category</th>\n",
              "      <th>preprocessed_text</th>\n",
              "    </tr>\n",
              "  </thead>\n",
              "  <tbody>\n",
              "    <tr>\n",
              "      <th>0</th>\n",
              "      <td>Rapper Snoop Dogg sued for 'rape'\\n\\nUS rapper...</td>\n",
              "      <td>entertainment</td>\n",
              "      <td>rapper snoop dogg sue rape  rapper snoop dogg ...</td>\n",
              "    </tr>\n",
              "    <tr>\n",
              "      <th>1</th>\n",
              "      <td>Vera Drake's Bafta triumph hope\\n\\nAt the Baft...</td>\n",
              "      <td>entertainment</td>\n",
              "      <td>vera drake bafta triumph hope  bafta film awar...</td>\n",
              "    </tr>\n",
              "    <tr>\n",
              "      <th>2</th>\n",
              "      <td>God cut from Dark Materials film\\n\\nThe direct...</td>\n",
              "      <td>entertainment</td>\n",
              "      <td>god cut dark materials film  director screenwr...</td>\n",
              "    </tr>\n",
              "    <tr>\n",
              "      <th>3</th>\n",
              "      <td>Films on war triumph at Sundance\\n\\nA study of...</td>\n",
              "      <td>entertainment</td>\n",
              "      <td>film war triumph sundance  study united states...</td>\n",
              "    </tr>\n",
              "    <tr>\n",
              "      <th>4</th>\n",
              "      <td>Ray DVD beats box office takings\\n\\nOscar-nomi...</td>\n",
              "      <td>entertainment</td>\n",
              "      <td>ray dvd beats box office  oscarnominate film b...</td>\n",
              "    </tr>\n",
              "  </tbody>\n",
              "</table>\n",
              "</div>\n",
              "    <div class=\"colab-df-buttons\">\n",
              "\n",
              "  <div class=\"colab-df-container\">\n",
              "    <button class=\"colab-df-convert\" onclick=\"convertToInteractive('df-1336beec-69f9-42dd-841f-317b170099ed')\"\n",
              "            title=\"Convert this dataframe to an interactive table.\"\n",
              "            style=\"display:none;\">\n",
              "\n",
              "  <svg xmlns=\"http://www.w3.org/2000/svg\" height=\"24px\" viewBox=\"0 -960 960 960\">\n",
              "    <path d=\"M120-120v-720h720v720H120Zm60-500h600v-160H180v160Zm220 220h160v-160H400v160Zm0 220h160v-160H400v160ZM180-400h160v-160H180v160Zm440 0h160v-160H620v160ZM180-180h160v-160H180v160Zm440 0h160v-160H620v160Z\"/>\n",
              "  </svg>\n",
              "    </button>\n",
              "\n",
              "  <style>\n",
              "    .colab-df-container {\n",
              "      display:flex;\n",
              "      gap: 12px;\n",
              "    }\n",
              "\n",
              "    .colab-df-convert {\n",
              "      background-color: #E8F0FE;\n",
              "      border: none;\n",
              "      border-radius: 50%;\n",
              "      cursor: pointer;\n",
              "      display: none;\n",
              "      fill: #1967D2;\n",
              "      height: 32px;\n",
              "      padding: 0 0 0 0;\n",
              "      width: 32px;\n",
              "    }\n",
              "\n",
              "    .colab-df-convert:hover {\n",
              "      background-color: #E2EBFA;\n",
              "      box-shadow: 0px 1px 2px rgba(60, 64, 67, 0.3), 0px 1px 3px 1px rgba(60, 64, 67, 0.15);\n",
              "      fill: #174EA6;\n",
              "    }\n",
              "\n",
              "    .colab-df-buttons div {\n",
              "      margin-bottom: 4px;\n",
              "    }\n",
              "\n",
              "    [theme=dark] .colab-df-convert {\n",
              "      background-color: #3B4455;\n",
              "      fill: #D2E3FC;\n",
              "    }\n",
              "\n",
              "    [theme=dark] .colab-df-convert:hover {\n",
              "      background-color: #434B5C;\n",
              "      box-shadow: 0px 1px 3px 1px rgba(0, 0, 0, 0.15);\n",
              "      filter: drop-shadow(0px 1px 2px rgba(0, 0, 0, 0.3));\n",
              "      fill: #FFFFFF;\n",
              "    }\n",
              "  </style>\n",
              "\n",
              "    <script>\n",
              "      const buttonEl =\n",
              "        document.querySelector('#df-1336beec-69f9-42dd-841f-317b170099ed button.colab-df-convert');\n",
              "      buttonEl.style.display =\n",
              "        google.colab.kernel.accessAllowed ? 'block' : 'none';\n",
              "\n",
              "      async function convertToInteractive(key) {\n",
              "        const element = document.querySelector('#df-1336beec-69f9-42dd-841f-317b170099ed');\n",
              "        const dataTable =\n",
              "          await google.colab.kernel.invokeFunction('convertToInteractive',\n",
              "                                                    [key], {});\n",
              "        if (!dataTable) return;\n",
              "\n",
              "        const docLinkHtml = 'Like what you see? Visit the ' +\n",
              "          '<a target=\"_blank\" href=https://colab.research.google.com/notebooks/data_table.ipynb>data table notebook</a>'\n",
              "          + ' to learn more about interactive tables.';\n",
              "        element.innerHTML = '';\n",
              "        dataTable['output_type'] = 'display_data';\n",
              "        await google.colab.output.renderOutput(dataTable, element);\n",
              "        const docLink = document.createElement('div');\n",
              "        docLink.innerHTML = docLinkHtml;\n",
              "        element.appendChild(docLink);\n",
              "      }\n",
              "    </script>\n",
              "  </div>\n",
              "\n",
              "\n",
              "    <div id=\"df-ceeb54ed-c721-4be1-bce9-6d0ff94aa3cf\">\n",
              "      <button class=\"colab-df-quickchart\" onclick=\"quickchart('df-ceeb54ed-c721-4be1-bce9-6d0ff94aa3cf')\"\n",
              "                title=\"Suggest charts\"\n",
              "                style=\"display:none;\">\n",
              "\n",
              "<svg xmlns=\"http://www.w3.org/2000/svg\" height=\"24px\"viewBox=\"0 0 24 24\"\n",
              "     width=\"24px\">\n",
              "    <g>\n",
              "        <path d=\"M19 3H5c-1.1 0-2 .9-2 2v14c0 1.1.9 2 2 2h14c1.1 0 2-.9 2-2V5c0-1.1-.9-2-2-2zM9 17H7v-7h2v7zm4 0h-2V7h2v10zm4 0h-2v-4h2v4z\"/>\n",
              "    </g>\n",
              "</svg>\n",
              "      </button>\n",
              "\n",
              "<style>\n",
              "  .colab-df-quickchart {\n",
              "      --bg-color: #E8F0FE;\n",
              "      --fill-color: #1967D2;\n",
              "      --hover-bg-color: #E2EBFA;\n",
              "      --hover-fill-color: #174EA6;\n",
              "      --disabled-fill-color: #AAA;\n",
              "      --disabled-bg-color: #DDD;\n",
              "  }\n",
              "\n",
              "  [theme=dark] .colab-df-quickchart {\n",
              "      --bg-color: #3B4455;\n",
              "      --fill-color: #D2E3FC;\n",
              "      --hover-bg-color: #434B5C;\n",
              "      --hover-fill-color: #FFFFFF;\n",
              "      --disabled-bg-color: #3B4455;\n",
              "      --disabled-fill-color: #666;\n",
              "  }\n",
              "\n",
              "  .colab-df-quickchart {\n",
              "    background-color: var(--bg-color);\n",
              "    border: none;\n",
              "    border-radius: 50%;\n",
              "    cursor: pointer;\n",
              "    display: none;\n",
              "    fill: var(--fill-color);\n",
              "    height: 32px;\n",
              "    padding: 0;\n",
              "    width: 32px;\n",
              "  }\n",
              "\n",
              "  .colab-df-quickchart:hover {\n",
              "    background-color: var(--hover-bg-color);\n",
              "    box-shadow: 0 1px 2px rgba(60, 64, 67, 0.3), 0 1px 3px 1px rgba(60, 64, 67, 0.15);\n",
              "    fill: var(--button-hover-fill-color);\n",
              "  }\n",
              "\n",
              "  .colab-df-quickchart-complete:disabled,\n",
              "  .colab-df-quickchart-complete:disabled:hover {\n",
              "    background-color: var(--disabled-bg-color);\n",
              "    fill: var(--disabled-fill-color);\n",
              "    box-shadow: none;\n",
              "  }\n",
              "\n",
              "  .colab-df-spinner {\n",
              "    border: 2px solid var(--fill-color);\n",
              "    border-color: transparent;\n",
              "    border-bottom-color: var(--fill-color);\n",
              "    animation:\n",
              "      spin 1s steps(1) infinite;\n",
              "  }\n",
              "\n",
              "  @keyframes spin {\n",
              "    0% {\n",
              "      border-color: transparent;\n",
              "      border-bottom-color: var(--fill-color);\n",
              "      border-left-color: var(--fill-color);\n",
              "    }\n",
              "    20% {\n",
              "      border-color: transparent;\n",
              "      border-left-color: var(--fill-color);\n",
              "      border-top-color: var(--fill-color);\n",
              "    }\n",
              "    30% {\n",
              "      border-color: transparent;\n",
              "      border-left-color: var(--fill-color);\n",
              "      border-top-color: var(--fill-color);\n",
              "      border-right-color: var(--fill-color);\n",
              "    }\n",
              "    40% {\n",
              "      border-color: transparent;\n",
              "      border-right-color: var(--fill-color);\n",
              "      border-top-color: var(--fill-color);\n",
              "    }\n",
              "    60% {\n",
              "      border-color: transparent;\n",
              "      border-right-color: var(--fill-color);\n",
              "    }\n",
              "    80% {\n",
              "      border-color: transparent;\n",
              "      border-right-color: var(--fill-color);\n",
              "      border-bottom-color: var(--fill-color);\n",
              "    }\n",
              "    90% {\n",
              "      border-color: transparent;\n",
              "      border-bottom-color: var(--fill-color);\n",
              "    }\n",
              "  }\n",
              "</style>\n",
              "\n",
              "      <script>\n",
              "        async function quickchart(key) {\n",
              "          const quickchartButtonEl =\n",
              "            document.querySelector('#' + key + ' button');\n",
              "          quickchartButtonEl.disabled = true;  // To prevent multiple clicks.\n",
              "          quickchartButtonEl.classList.add('colab-df-spinner');\n",
              "          try {\n",
              "            const charts = await google.colab.kernel.invokeFunction(\n",
              "                'suggestCharts', [key], {});\n",
              "          } catch (error) {\n",
              "            console.error('Error during call to suggestCharts:', error);\n",
              "          }\n",
              "          quickchartButtonEl.classList.remove('colab-df-spinner');\n",
              "          quickchartButtonEl.classList.add('colab-df-quickchart-complete');\n",
              "        }\n",
              "        (() => {\n",
              "          let quickchartButtonEl =\n",
              "            document.querySelector('#df-ceeb54ed-c721-4be1-bce9-6d0ff94aa3cf button');\n",
              "          quickchartButtonEl.style.display =\n",
              "            google.colab.kernel.accessAllowed ? 'block' : 'none';\n",
              "        })();\n",
              "      </script>\n",
              "    </div>\n",
              "\n",
              "    </div>\n",
              "  </div>\n"
            ],
            "application/vnd.google.colaboratory.intrinsic+json": {
              "type": "dataframe",
              "variable_name": "text_df",
              "summary": "{\n  \"name\": \"text_df\",\n  \"rows\": 2225,\n  \"fields\": [\n    {\n      \"column\": \"text\",\n      \"properties\": {\n        \"dtype\": \"string\",\n        \"num_unique_values\": 2127,\n        \"samples\": [\n          \"Hillbillies singer Scoggins dies\\n\\nCountry and Western musician Jerry Scoggins has died in Los Angeles at the age of 93, his family has said.\\n\\nScoggins was best remembered for singing the theme tune to popular US TV show The Beverly Hillbillies. The Texan-born singer approached the producers of the programme with theme tune The Ballad of Jed Clampett for the pilot which was screened in 1962. The show, which told the story of a poor man striking oil and moving to Beverly Hills, ran until 1971.\\n\\nScoggins' daugher Jane Kelly Misel said that her father never tired of the song and would sing it at least once a day. \\\"He'd sing it at birthdays and anniversaries and variety shows. He never stopped performing it,\\\" she said. When a film version of The Beverly Hillbillies was made in 1993, Scoggins came out of retirement to perform the theme tune. Scoggins sang the lyrics while bluegrass stars Lester Flatt and Earl Scruggs played guitar and banjo.\",\n          \"Blair says mayor should apologise\\n\\nTony Blair has urged London mayor Ken Livingstone to apologise for his \\\"Nazi\\\" comment to a Jewish reporter.\\n\\nLabour's Mr Livingstone, who says he is \\\"standing by\\\" his remarks, had accused an Evening Standard journalist of being like a \\\"concentration camp guard\\\". Mr Blair told Five's Wright Stuff show: \\\"Let's just apologise and move on.\\\" Mr Livingstone has said the remarks may have been offensive but were not racist, and said he would not apologise even if the prime minister asked.\\n\\nMr Blair, who was instrumental in returning Mr Livingstone to the Labour Party, insisted on Wednesday it was time for the London mayor to say sorry.\\n\\n\\\"A lot of us in politics get angry with journalists from time to time, but in the circumstances, and to the journalist because he was a Jewish journalist, yes, he should apologise,\\\" he said. \\\"Let's just apologise and move on - that's the sensible thing.\\\" Tory leader Michael Howard, asked about Mr Livingstone's remark by reporters, said it was important for politicians to be mindful about the language they use. \\\"It's particularly important that as we get close to the election that politicians talk with civility and courtesy about issues that we all face,\\\" he said. \\\"I think it's a matter of sadness that we are not seeing that from the Labour Party. We had what Ken Livingstone said, we had what Alastair Campbell has said and we have what others have said. I think that's a matter of great regret.\\\"\\n\\nThe row blew up after Mr Livingstone was approached by Evening Standard reporter Oliver Finegold following a party marking the 20th anniversary of former Culture Secretary Chris Smith coming out as Britain's first gay MP. On tape, Mr Livingstone, who once worked as a freelance restaurant critic on the paper, is heard asking Mr Finegold if he is a \\\"German war criminal\\\".\\n\\nMr Finegold replies: \\\"No, I'm Jewish, I wasn't a German war criminal. I'm quite offended by that.\\\" The mayor then says: \\\"Ah right, well you might be, but actually you are like a concentration camp guard, you are just doing it because you are paid to, aren't you?\\\" At his weekly press conference on Tuesday, Mr Livingstone said his comments were not racist and refused to apologise. \\\"If you think they are racist, I think you are wrong,\\\" he told reporters. The dispute comes as an inspection team from the International Olympic committee began a four-day tour to assess London's bid for the 2012 Games. An official complaint has been made to local government watchdogs by the British Jews, demanding an investigation by the Standards Board of England. It has the power to suspend or bar Mr Livingstone from public office.\",\n          \"TV future in the hands of viewers\\n\\nWith home theatre systems, plasma high-definition TVs, and digital video recorders moving into the living room, the way people watch TV will be radically different in five years' time.\\n\\nThat is according to an expert panel which gathered at the annual Consumer Electronics Show in Las Vegas to discuss how these new technologies will impact one of our favourite pastimes. With the US leading the trend, programmes and other content will be delivered to viewers via home networks, through cable, satellite, telecoms companies, and broadband service providers to front rooms and portable devices.\\n\\nOne of the most talked-about technologies of CES has been digital and personal video recorders (DVR and PVR). These set-top boxes, like the US's TiVo and the UK's Sky+ system, allow people to record, store, play, pause and forward wind TV programmes when they want.\\n\\nEssentially, the technology allows for much more personalised TV. They are also being built-in to high-definition TV sets, which are big business in Japan and the US, but slower to take off in Europe because of the lack of high-definition programming. Not only can people forward wind through adverts, they can also forget about abiding by network and channel schedules, putting together their own a-la-carte entertainment. But some US networks and cable and satellite companies are worried about what it means for them in terms of advertising revenues as well as \\\"brand identity\\\" and viewer loyalty to channels. Although the US leads in this technology at the moment, it is also a concern that is being raised in Europe, particularly with the growing uptake of services like Sky+. \\\"What happens here today, we will see in nine months to a years' time in the UK,\\\" Adam Hume, the BBC Broadcast's futurologist told the BBC News website. For the likes of the BBC, there are no issues of lost advertising revenue yet. It is a more pressing issue at the moment for commercial UK broadcasters, but brand loyalty is important for everyone. \\\"We will be talking more about content brands rather than network brands,\\\" said Tim Hanlon, from brand communications firm Starcom MediaVest. \\\"The reality is that with broadband connections, anybody can be the producer of content.\\\" He added: \\\"The challenge now is that it is hard to promote a programme with so much choice.\\\"\\n\\nWhat this means, said Stacey Jolna, senior vice president of TV Guide TV group, is that the way people find the content they want to watch has to be simplified for TV viewers. It means that networks, in US terms, or channels could take a leaf out of Google's book and be the search engine of the future, instead of the scheduler to help people find what they want to watch. This kind of channel model might work for the younger iPod generation which is used to taking control of their gadgets and what they play on them. But it might not suit everyone, the panel recognised. Older generations are more comfortable with familiar schedules and channel brands because they know what they are getting. They perhaps do not want so much of the choice put into their hands, Mr Hanlon suggested. \\\"On the other end, you have the kids just out of diapers who are pushing buttons already - everything is possible and available to them,\\\" said Mr Hanlon. \\\"Ultimately, the consumer will tell the market they want.\\\"\\n\\nOf the 50,000 new gadgets and technologies being showcased at CES, many of them are about enhancing the TV-watching experience. High-definition TV sets are everywhere and many new models of LCD (Liquid Crystal Display) TVs have been launched with DVR capability built into them, instead of being external boxes. One such example launched at the show is Humax's 26-inch LCD TV with an 80-hour TiVo DVR and DVD recorder. One of the US's biggest satellite TV companies, DirectTV, has even launched its own branded DVR at the show with 100-hours of recording capability, instant replay, and a search function. The set can pause and rewind TV for up to 90 hours. And Microsoft chief Bill Gates announced in his pre-show keynote speech a partnership with TiVo, called TiVoToGo, which means people can play recorded programmes on Windows PCs and mobile devices. All these reflect the increasing trend of freeing up multimedia so that people can watch what they want, when they want.\"\n        ],\n        \"semantic_type\": \"\",\n        \"description\": \"\"\n      }\n    },\n    {\n      \"column\": \"category\",\n      \"properties\": {\n        \"dtype\": \"category\",\n        \"num_unique_values\": 5,\n        \"samples\": [\n          \"sport\",\n          \"politics\",\n          \"business\"\n        ],\n        \"semantic_type\": \"\",\n        \"description\": \"\"\n      }\n    },\n    {\n      \"column\": \"preprocessed_text\",\n      \"properties\": {\n        \"dtype\": \"string\",\n        \"num_unique_values\": 2120,\n        \"samples\": [\n          \"london irish 1933 wasps  wasps light absence international sink london irish trio secondhalf try  rob hoadley return haunt old club madejski stadium score opening try 43rd minute tom voyce power irish defence wasps second try before richard birkett go unchallenged mark van gisbergen add 18 point irish reply three penalty mark mapletoft drop goal before scott staniforth run consolation try barry everitt replace mapletoft game add conversion fourth premiership player reach 1000 point join jonny wilkinson tim stimpson paul grayson achieve target wasp pile pressure attempt grab fourth try secure bonus point deny desperate defend irish director rugby warren gatland reveal harsh word halftime inspire wasps side raise game restart  get roasting good secondhalf performance play instruction gatland single standin flanker tom rees john hart special praise back row play fantastic rugby add london irish coach gary gold feel result expose side lack consistency  irish trail just two point break gold 55 minute live good get get back full 80 minute gold turn attention week powergen cup semifinal struggle leeds get good chance leeds face possible relegation go fire add  horak staniforth penney nordt bishop mapletoft edwards hatley van der walt hardwick kennedy casey gustard dawson murphy  replacements everitt mapletoft 53 hodgson edwards 77 wheatley hatley 71 paice van der walt 60 strudwick kennedy 60 danaher gustard 66 reid murphy 47  van gisbergen voyce erinle hoadley roberts king richards payne greening dowd shaw purdy hart rees dallaglio  replacements priscott roberts 71 green dowd 71 skivington shaw 71 birkett hart 57 gotting rees 39 fury brooks\",\n          \"online common spark debate  online community set uk government encourage public debate build trust institute public policy research ippr  exist service ebay provide good blueprint service thinktank net part local central government potential fully exploit create online common public debate report online community policy tool ippr ask id card help create safe online community adopt ebaytype model community create market skill service help foster sense local identity connection propose civic common davies senior research fellow ippr tell bbc news website single publicly fund run online community citizen single place go go engage diversity way policy implication   prelegislation discussion  idea civic common originally propose stephen coleman professor edemocracy oxford internet institute ippr report point informal small scale example common exist mention goodpractice public initiative bbcs ican project connect people locally nationally want take action important issue  add government play big role set system trust online community proposal id card instance widen see online provide basis secure authentication system value peertopeer interaction online moment present way government keep tab people ensure access public service davies explore authentication technology potentially play role decentralise online community key idea take system ebay online community member rate reputation treat member similar mechanism trust cooperation member virtual physical community build mean civic common work nonmarket system people disagree one interact publiclyrecognise rule  egovernment initiative decade put basic information service guide online people interact government web online community chatroom mailing list community portal message board weblog form common interest issue  53 uk household access net government suggest davies act intermediary middleman set public online place debate exchange encourage cosmopolitan politic public trust policy government play critical role help citizen trade online play role help citizen connect one civic nonmarket interaction davies role public body bbc library government bring people back public debate million clique talk add paper part ippr digital society initiative produce number conference research paper lead publication manifesto digital britain\",\n          \"south bank awards honour hit soap  coronation street first soap triumph south bank show awards traditionally reward highbrow groundbreake culture  soap beat fellow itv1 show filthy love channel 4s shameless win good tv drama prize thursday little britain name good comedy franz ferdinand beat morrissey libertines music award shane meadows dead mans shoes pick good film award beat shaun dead summer love two award ceremony reflect achievement industry believe year  2004 coronation street pull away bbc one rival eastenders rating dominate tv award year south bank award good tv drama go steven poliakoffs period piece lost prince bloody sunday 1972 killing northern ireland win 2003 south bank category little britains second series beat nighty night green wing comedy trophy alan bennetts history boys win theatre category author david mitchell lose booker prize alan hollinghurst beat literary award book cloud atlas shameless state play clock creator paul abbott get lifetime achievement award former grange hill actress amma asante win breakthrough award writing direct first film way life\"\n        ],\n        \"semantic_type\": \"\",\n        \"description\": \"\"\n      }\n    }\n  ]\n}"
            }
          },
          "metadata": {},
          "execution_count": 9
        }
      ]
    },
    {
      "cell_type": "markdown",
      "source": [
        "# Exploratory Data Analysis"
      ],
      "metadata": {
        "id": "TAG7TbpY8Or-"
      }
    },
    {
      "cell_type": "code",
      "source": [],
      "metadata": {
        "id": "WlJoQDmv8LC6"
      },
      "execution_count": null,
      "outputs": []
    },
    {
      "cell_type": "markdown",
      "source": [
        "# Sub-categorizing Main Categories"
      ],
      "metadata": {
        "id": "QfMZb84I_zvy"
      }
    },
    {
      "cell_type": "markdown",
      "source": [
        "To break down the texts into sub-categories, I would make use of BERTopic"
      ],
      "metadata": {
        "id": "OCZTcGKvstm3"
      }
    },
    {
      "cell_type": "markdown",
      "source": [
        "## Tfidf method - backup"
      ],
      "metadata": {
        "id": "pStRArnyskaD"
      }
    },
    {
      "cell_type": "code",
      "source": [
        "vectorizer = TfidfVectorizer(max_df=0.8, min_df=5, ngram_range=(1,2))\n",
        "X = vectorizer.fit_transform(business_texts)"
      ],
      "metadata": {
        "id": "YO_sRfWABs-B",
        "colab": {
          "base_uri": "https://localhost:8080/",
          "height": 159
        },
        "outputId": "9dc414e1-8610-4822-b163-d18af96ebb2a"
      },
      "execution_count": null,
      "outputs": [
        {
          "output_type": "error",
          "ename": "NameError",
          "evalue": "name 'business_texts' is not defined",
          "traceback": [
            "\u001b[0;31m---------------------------------------------------------------------------\u001b[0m",
            "\u001b[0;31mNameError\u001b[0m                                 Traceback (most recent call last)",
            "\u001b[0;32m/tmp/ipython-input-10-2508768401.py\u001b[0m in \u001b[0;36m<cell line: 0>\u001b[0;34m()\u001b[0m\n\u001b[1;32m      1\u001b[0m \u001b[0mvectorizer\u001b[0m \u001b[0;34m=\u001b[0m \u001b[0mTfidfVectorizer\u001b[0m\u001b[0;34m(\u001b[0m\u001b[0mmax_df\u001b[0m\u001b[0;34m=\u001b[0m\u001b[0;36m0.8\u001b[0m\u001b[0;34m,\u001b[0m \u001b[0mmin_df\u001b[0m\u001b[0;34m=\u001b[0m\u001b[0;36m5\u001b[0m\u001b[0;34m,\u001b[0m \u001b[0mngram_range\u001b[0m\u001b[0;34m=\u001b[0m\u001b[0;34m(\u001b[0m\u001b[0;36m1\u001b[0m\u001b[0;34m,\u001b[0m\u001b[0;36m2\u001b[0m\u001b[0;34m)\u001b[0m\u001b[0;34m)\u001b[0m\u001b[0;34m\u001b[0m\u001b[0;34m\u001b[0m\u001b[0m\n\u001b[0;32m----> 2\u001b[0;31m \u001b[0mX\u001b[0m \u001b[0;34m=\u001b[0m \u001b[0mvectorizer\u001b[0m\u001b[0;34m.\u001b[0m\u001b[0mfit_transform\u001b[0m\u001b[0;34m(\u001b[0m\u001b[0mbusiness_texts\u001b[0m\u001b[0;34m)\u001b[0m\u001b[0;34m\u001b[0m\u001b[0;34m\u001b[0m\u001b[0m\n\u001b[0m",
            "\u001b[0;31mNameError\u001b[0m: name 'business_texts' is not defined"
          ]
        }
      ]
    },
    {
      "cell_type": "code",
      "source": [
        "k = 5  # start with 5, tweak later\n",
        "model = KMeans(n_clusters=k, random_state=42)\n",
        "clusters = model.fit_predict(X)\n",
        "business_df['sub_category'] = clusters"
      ],
      "metadata": {
        "id": "GuL1GnM-B0g4"
      },
      "execution_count": null,
      "outputs": []
    },
    {
      "cell_type": "code",
      "source": [
        "for c in range(k):\n",
        "    print(f\"\\n Cluster {c}:\")\n",
        "    print(business_df[business_df['sub_category'] == c]['text'].head(5).values)\n"
      ],
      "metadata": {
        "id": "JwyrxbtLCH8f"
      },
      "execution_count": null,
      "outputs": []
    },
    {
      "cell_type": "code",
      "source": [
        "terms = vectorizer.get_feature_names_out()\n",
        "order_centroids = model.cluster_centers_.argsort()[:, ::-1]\n",
        "\n",
        "for i in range(k):\n",
        "    print(f\"\\n Cluster {i}:\")\n",
        "    top_terms = [terms[ind] for ind in order_centroids[i, :10]]\n",
        "    print(\", \".join(top_terms))\n"
      ],
      "metadata": {
        "id": "MJTK0UVGCKdX"
      },
      "execution_count": null,
      "outputs": []
    },
    {
      "cell_type": "code",
      "source": [],
      "metadata": {
        "id": "D-rMCNHeCa6_"
      },
      "execution_count": null,
      "outputs": []
    },
    {
      "cell_type": "markdown",
      "source": [
        "## BERTopic"
      ],
      "metadata": {
        "id": "ANVvgvKDlbNY"
      }
    },
    {
      "cell_type": "code",
      "source": [
        "# Creating a function to run the initial clustering of the top categories\n",
        "def run_bertopic_pipeline(\n",
        "    df,\n",
        "    top_category,\n",
        "    embedding_model = None,\n",
        "    min_topic_size = 5\n",
        "):\n",
        "    print (f\" Running pipeline for {top_category} category\")\n",
        "\n",
        "    #Filtering the specified top category\n",
        "    top_category_df = df[df['category'] == top_category]\n",
        "\n",
        "    # Converting to list for easy processing\n",
        "    top_category_texts = top_category_df['preprocessed_text'].tolist()\n",
        "    top_category_texts = [t for t in top_category_texts if isinstance(t, str) and t.strip()]\n",
        "\n",
        "    # Specifying embedding model\n",
        "    if embedding_model is None:\n",
        "        embedding_model = SentenceTransformer(\"all-MiniLM-L6-v2\")\n",
        "\n",
        "    # Creating an instance of BERTopic for my data\n",
        "    bbc_topic_model = BERTopic(embedding_model=embedding_model,\n",
        "                           language=\"english\",\n",
        "                           verbose=True,\n",
        "                           min_topic_size = min_topic_size)\n",
        "\n",
        "    # Fit and transform data\n",
        "    topics, probabilities = bbc_topic_model.fit_transform(top_category_texts)\n",
        "\n",
        "    # Topic info\n",
        "    topic_info = bbc_topic_model.get_topic_info()\n",
        "\n",
        "    # Visualizing document and topic maps\n",
        "    topic_documents_map = bbc_topic_model.visualize_documents(top_category_texts)\n",
        "    topic_distance_map = bbc_topic_model.visualize_topics()\n",
        "\n",
        "    # Appending topics and labels to dataframe\n",
        "    top_category_df['bertopic_topic'] = topics\n",
        "    top_category_df['bertopic_topic_label'] = top_category_df['bertopic_topic'].apply(lambda x: bbc_topic_model.get_topic(x))\n",
        "\n",
        "    return {'topic_info': topic_info,\n",
        "            'topic_distance_map': topic_distance_map,\n",
        "            'topic_documents_map': topic_documents_map,\n",
        "            'topics': topics,\n",
        "            'probabilities': probabilities,\n",
        "            'bbc_topic_model': bbc_topic_model,\n",
        "            'dataframe': top_category_df}"
      ],
      "metadata": {
        "id": "qRXF1wp9N-RB"
      },
      "execution_count": null,
      "outputs": []
    },
    {
      "cell_type": "code",
      "source": [
        "business_results = run_bertopic_pipeline(text_df, 'business')"
      ],
      "metadata": {
        "id": "m4toM3ATIIco"
      },
      "execution_count": null,
      "outputs": []
    },
    {
      "cell_type": "code",
      "source": [
        "business_results['topic_distance_map']"
      ],
      "metadata": {
        "id": "jbPBF-47NBnI"
      },
      "execution_count": null,
      "outputs": []
    },
    {
      "cell_type": "code",
      "source": [
        "business_results['topic_documents_map']"
      ],
      "metadata": {
        "id": "1HjUDVRsXYbE"
      },
      "execution_count": null,
      "outputs": []
    },
    {
      "cell_type": "markdown",
      "source": [
        "Now let us inspect the resulting topics and labels for the business top_Category"
      ],
      "metadata": {
        "id": "1OPukl7MX3sN"
      }
    },
    {
      "cell_type": "code",
      "source": [
        "business_df = business_results['dataframe']"
      ],
      "metadata": {
        "id": "oiwxEjlO9XX6"
      },
      "execution_count": null,
      "outputs": []
    },
    {
      "cell_type": "code",
      "source": [
        "bbc_topic_model.reduce_topics(business_texts, nr_topics=7)"
      ],
      "metadata": {
        "id": "iaWnrSwjmi1c"
      },
      "execution_count": null,
      "outputs": []
    },
    {
      "cell_type": "code",
      "source": [
        "# updated_topics = bbc_topic_model.transform(business_texts)\n",
        "# business_df['updated_topics'] = bbc_topic_model.topics_"
      ],
      "metadata": {
        "id": "ZR4E-DlIm-Q6"
      },
      "execution_count": null,
      "outputs": []
    },
    {
      "cell_type": "code",
      "source": [],
      "metadata": {
        "id": "v1LF4B4LNf2H"
      },
      "execution_count": null,
      "outputs": []
    }
  ]
}